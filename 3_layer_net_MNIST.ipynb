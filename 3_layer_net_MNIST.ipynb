{
 "cells": [
  {
   "cell_type": "markdown",
   "id": "46bf8b2e-c456-4b56-a4a7-81f05398203b",
   "metadata": {},
   "source": [
    "# 3 LAYER NET."
   ]
  },
  {
   "cell_type": "markdown",
   "id": "5f65af43-cac4-4345-8ced-90b9dd1ee0a7",
   "metadata": {},
   "source": [
    "BROKEN AI\n",
    "3 layer per allenamento con MNIST"
   ]
  },
  {
   "cell_type": "code",
   "execution_count": 1,
   "id": "9d7c498c-7d84-49c4-848d-5d84104de8bf",
   "metadata": {},
   "outputs": [],
   "source": [
    "import keras\n",
    "import tensorflow as tf\n",
    "import numpy as np\n",
    "import matplotlib.pyplot as plt\n",
    "from keras.datasets import mnist\n",
    "\n",
    "\n",
    "# split dataset into training and test set\n",
    "(x_train, y_train), (x_test, y_test) = mnist.load_data()\n",
    "x_train1=x_train\n",
    "y_train1=y_train\n",
    "x_test1=x_test\n",
    "y_test1=y_test"
   ]
  },
  {
   "cell_type": "raw",
   "id": "eb130ce9-8a5e-42a4-9eda-005099531633",
   "metadata": {},
   "source": [
    "\n",
    "plt.imshow(x_train[66], cmap=plt.cm.binary)\n",
    "print(y_train[66])"
   ]
  },
  {
   "cell_type": "code",
   "execution_count": 2,
   "id": "ee228411-4de3-43d8-b665-a88f40332f7b",
   "metadata": {},
   "outputs": [],
   "source": [
    "x_train = x_train.astype('float32')\n",
    "x_test = x_test.astype('float32')\n",
    "\n",
    "x_train /= 255\n",
    "x_test /= 255"
   ]
  },
  {
   "cell_type": "code",
   "execution_count": 3,
   "id": "21359b75-fe80-4787-a4ba-a782f976881b",
   "metadata": {},
   "outputs": [],
   "source": [
    "x_train = x_train.reshape(60000, 784)\n",
    "\n",
    "x_test = x_test.reshape(10000, 784)"
   ]
  },
  {
   "cell_type": "code",
   "execution_count": 4,
   "id": "f8750ee4-1b0c-4242-9d08-99c2855de176",
   "metadata": {},
   "outputs": [],
   "source": [
    "from keras.utils import to_categorical\n",
    "y_train = to_categorical(y_train, num_classes=10)\n",
    "\n",
    "y_test = to_categorical(y_test, num_classes=10)"
   ]
  },
  {
   "cell_type": "code",
   "execution_count": 5,
   "id": "6967a584-f8db-4fc1-b4d2-4e03145dc5fb",
   "metadata": {},
   "outputs": [],
   "source": [
    "from keras.models import Sequential\n",
    "from tensorflow.keras.layers import Dense, Activation"
   ]
  },
  {
   "cell_type": "code",
   "execution_count": 6,
   "id": "6b83945c-2c42-48f6-a246-31a976bfb971",
   "metadata": {},
   "outputs": [
    {
     "name": "stderr",
     "output_type": "stream",
     "text": [
      "C:\\Users\\tony3\\AppData\\Local\\Programs\\Python\\Python311\\Lib\\site-packages\\keras\\src\\layers\\core\\dense.py:87: UserWarning: Do not pass an `input_shape`/`input_dim` argument to a layer. When using Sequential models, prefer using an `Input(shape)` object as the first layer in the model instead.\n",
      "  super().__init__(activity_regularizer=activity_regularizer, **kwargs)\n"
     ]
    }
   ],
   "source": [
    "model = Sequential()\n",
    "model.add(Dense(10, activation='sigmoid', input_shape=(784,)))\n",
    "model.add(Dense(10, activation='relu'))\n",
    "model.add(Dense(10, activation='softmax'))\n"
   ]
  },
  {
   "cell_type": "code",
   "execution_count": 7,
   "id": "33737199-cfcc-432f-b61f-d7c1e4b1a137",
   "metadata": {},
   "outputs": [
    {
     "data": {
      "text/html": [
       "<pre style=\"white-space:pre;overflow-x:auto;line-height:normal;font-family:Menlo,'DejaVu Sans Mono',consolas,'Courier New',monospace\"><span style=\"font-weight: bold\">Model: \"sequential\"</span>\n",
       "</pre>\n"
      ],
      "text/plain": [
       "\u001b[1mModel: \"sequential\"\u001b[0m\n"
      ]
     },
     "metadata": {},
     "output_type": "display_data"
    },
    {
     "data": {
      "text/html": [
       "<pre style=\"white-space:pre;overflow-x:auto;line-height:normal;font-family:Menlo,'DejaVu Sans Mono',consolas,'Courier New',monospace\">┏━━━━━━━━━━━━━━━━━━━━━━━━━━━━━━━━━━━━━━┳━━━━━━━━━━━━━━━━━━━━━━━━━━━━━┳━━━━━━━━━━━━━━━━━┓\n",
       "┃<span style=\"font-weight: bold\"> Layer (type)                         </span>┃<span style=\"font-weight: bold\"> Output Shape                </span>┃<span style=\"font-weight: bold\">         Param # </span>┃\n",
       "┡━━━━━━━━━━━━━━━━━━━━━━━━━━━━━━━━━━━━━━╇━━━━━━━━━━━━━━━━━━━━━━━━━━━━━╇━━━━━━━━━━━━━━━━━┩\n",
       "│ dense (<span style=\"color: #0087ff; text-decoration-color: #0087ff\">Dense</span>)                        │ (<span style=\"color: #00d7ff; text-decoration-color: #00d7ff\">None</span>, <span style=\"color: #00af00; text-decoration-color: #00af00\">10</span>)                  │           <span style=\"color: #00af00; text-decoration-color: #00af00\">7,850</span> │\n",
       "├──────────────────────────────────────┼─────────────────────────────┼─────────────────┤\n",
       "│ dense_1 (<span style=\"color: #0087ff; text-decoration-color: #0087ff\">Dense</span>)                      │ (<span style=\"color: #00d7ff; text-decoration-color: #00d7ff\">None</span>, <span style=\"color: #00af00; text-decoration-color: #00af00\">10</span>)                  │             <span style=\"color: #00af00; text-decoration-color: #00af00\">110</span> │\n",
       "├──────────────────────────────────────┼─────────────────────────────┼─────────────────┤\n",
       "│ dense_2 (<span style=\"color: #0087ff; text-decoration-color: #0087ff\">Dense</span>)                      │ (<span style=\"color: #00d7ff; text-decoration-color: #00d7ff\">None</span>, <span style=\"color: #00af00; text-decoration-color: #00af00\">10</span>)                  │             <span style=\"color: #00af00; text-decoration-color: #00af00\">110</span> │\n",
       "└──────────────────────────────────────┴─────────────────────────────┴─────────────────┘\n",
       "</pre>\n"
      ],
      "text/plain": [
       "┏━━━━━━━━━━━━━━━━━━━━━━━━━━━━━━━━━━━━━━┳━━━━━━━━━━━━━━━━━━━━━━━━━━━━━┳━━━━━━━━━━━━━━━━━┓\n",
       "┃\u001b[1m \u001b[0m\u001b[1mLayer (type)                        \u001b[0m\u001b[1m \u001b[0m┃\u001b[1m \u001b[0m\u001b[1mOutput Shape               \u001b[0m\u001b[1m \u001b[0m┃\u001b[1m \u001b[0m\u001b[1m        Param #\u001b[0m\u001b[1m \u001b[0m┃\n",
       "┡━━━━━━━━━━━━━━━━━━━━━━━━━━━━━━━━━━━━━━╇━━━━━━━━━━━━━━━━━━━━━━━━━━━━━╇━━━━━━━━━━━━━━━━━┩\n",
       "│ dense (\u001b[38;5;33mDense\u001b[0m)                        │ (\u001b[38;5;45mNone\u001b[0m, \u001b[38;5;34m10\u001b[0m)                  │           \u001b[38;5;34m7,850\u001b[0m │\n",
       "├──────────────────────────────────────┼─────────────────────────────┼─────────────────┤\n",
       "│ dense_1 (\u001b[38;5;33mDense\u001b[0m)                      │ (\u001b[38;5;45mNone\u001b[0m, \u001b[38;5;34m10\u001b[0m)                  │             \u001b[38;5;34m110\u001b[0m │\n",
       "├──────────────────────────────────────┼─────────────────────────────┼─────────────────┤\n",
       "│ dense_2 (\u001b[38;5;33mDense\u001b[0m)                      │ (\u001b[38;5;45mNone\u001b[0m, \u001b[38;5;34m10\u001b[0m)                  │             \u001b[38;5;34m110\u001b[0m │\n",
       "└──────────────────────────────────────┴─────────────────────────────┴─────────────────┘\n"
      ]
     },
     "metadata": {},
     "output_type": "display_data"
    },
    {
     "data": {
      "text/html": [
       "<pre style=\"white-space:pre;overflow-x:auto;line-height:normal;font-family:Menlo,'DejaVu Sans Mono',consolas,'Courier New',monospace\"><span style=\"font-weight: bold\"> Total params: </span><span style=\"color: #00af00; text-decoration-color: #00af00\">8,070</span> (31.52 KB)\n",
       "</pre>\n"
      ],
      "text/plain": [
       "\u001b[1m Total params: \u001b[0m\u001b[38;5;34m8,070\u001b[0m (31.52 KB)\n"
      ]
     },
     "metadata": {},
     "output_type": "display_data"
    },
    {
     "data": {
      "text/html": [
       "<pre style=\"white-space:pre;overflow-x:auto;line-height:normal;font-family:Menlo,'DejaVu Sans Mono',consolas,'Courier New',monospace\"><span style=\"font-weight: bold\"> Trainable params: </span><span style=\"color: #00af00; text-decoration-color: #00af00\">8,070</span> (31.52 KB)\n",
       "</pre>\n"
      ],
      "text/plain": [
       "\u001b[1m Trainable params: \u001b[0m\u001b[38;5;34m8,070\u001b[0m (31.52 KB)\n"
      ]
     },
     "metadata": {},
     "output_type": "display_data"
    },
    {
     "data": {
      "text/html": [
       "<pre style=\"white-space:pre;overflow-x:auto;line-height:normal;font-family:Menlo,'DejaVu Sans Mono',consolas,'Courier New',monospace\"><span style=\"font-weight: bold\"> Non-trainable params: </span><span style=\"color: #00af00; text-decoration-color: #00af00\">0</span> (0.00 B)\n",
       "</pre>\n"
      ],
      "text/plain": [
       "\u001b[1m Non-trainable params: \u001b[0m\u001b[38;5;34m0\u001b[0m (0.00 B)\n"
      ]
     },
     "metadata": {},
     "output_type": "display_data"
    }
   ],
   "source": [
    "model.summary()"
   ]
  },
  {
   "cell_type": "code",
   "execution_count": 8,
   "id": "553184ea-843e-4761-8567-b9f92f914973",
   "metadata": {},
   "outputs": [],
   "source": [
    "model.compile(loss=\"categorical_crossentropy\",\n",
    "              optimizer=\"sgd\",#oppure adam per avere learning rate adattivo\n",
    "              metrics = ['accuracy'])"
   ]
  },
  {
   "cell_type": "raw",
   "id": "9aecc631-aeac-44d3-8455-eecd909f3d02",
   "metadata": {},
   "source": [
    "per salvare in caso di miglioramenti accuracy con fit\n",
    "\n",
    "\n",
    "'''\n",
    "from tensorflow.keras.callbacks import ModelCheckpoint\n",
    "\n",
    "checkpoint = ModelCheckpoint(\n",
    "    filepath='best_model.keras',\n",
    "    monitor='val_accuracy',\n",
    "    save_best_only=True,\n",
    "    mode='max'\n",
    ")\n",
    "\n",
    "history=model.fit(x_train, y_train, epochs=3, validation_split=0.2, callbacks=[checkpoint])\n",
    "'''"
   ]
  },
  {
   "cell_type": "raw",
   "id": "a2b4fc57-9dc2-4f5e-8379-3aea60b5ff3c",
   "metadata": {},
   "source": [
    "fit con uso di tensorboard\n",
    "\n",
    "'''\n",
    "import datetime\n",
    "%load_ext tensorboard\n",
    "from tensorflow.keras.callbacks import TensorBoard\n",
    "\n",
    "tensorboard = TensorBoard(log_dir='./logs')\n",
    "\n",
    "log_dir = \"logs/fit/\" + datetime.datetime.now().strftime(\"%Y%m%d-%H%M%S\")\n",
    "tensorboard_callback = tf.keras.callbacks.TensorBoard(log_dir=log_dir, histogram_freq=1)\n",
    "\n",
    "model.fit(\n",
    "    x_train, y_train,\n",
    "    epochs=5,\n",
    "    validation_data=(x_test, y_test),\n",
    "    callbacks=[tensorboard_callback]\n",
    ")\n",
    "%load_ext tensorboard\n",
    "%tensorboard --logdir logs/fit\n",
    "\n",
    "'''"
   ]
  },
  {
   "cell_type": "code",
   "execution_count": 9,
   "id": "ab32478e-a0af-4080-a6f0-2f12627b0709",
   "metadata": {},
   "outputs": [
    {
     "name": "stdout",
     "output_type": "stream",
     "text": [
      "Epoch 1/30\n",
      "\u001b[1m69/69\u001b[0m \u001b[32m━━━━━━━━━━━━━━━━━━━━\u001b[0m\u001b[37m\u001b[0m \u001b[1m2s\u001b[0m 14ms/step - accuracy: 0.1008 - loss: 2.3137 - val_accuracy: 0.1395 - val_loss: 2.2852 - learning_rate: 0.0100\n",
      "Epoch 2/30\n",
      "\u001b[1m62/69\u001b[0m \u001b[32m━━━━━━━━━━━━━━━━━\u001b[0m\u001b[37m━━━\u001b[0m \u001b[1m0s\u001b[0m 5ms/step - accuracy: 0.1414 - loss: 2.2814\n",
      "Epoch 2: ReduceLROnPlateau reducing learning rate to 0.009499999787658453.\n",
      "\u001b[1m69/69\u001b[0m \u001b[32m━━━━━━━━━━━━━━━━━━━━\u001b[0m\u001b[37m\u001b[0m \u001b[1m1s\u001b[0m 9ms/step - accuracy: 0.1424 - loss: 2.2807 - val_accuracy: 0.1663 - val_loss: 2.2616 - learning_rate: 0.0100\n",
      "Epoch 3/30\n",
      "\u001b[1m63/69\u001b[0m \u001b[32m━━━━━━━━━━━━━━━━━━\u001b[0m\u001b[37m━━\u001b[0m \u001b[1m0s\u001b[0m 5ms/step - accuracy: 0.1644 - loss: 2.2586\n",
      "Epoch 3: ReduceLROnPlateau reducing learning rate to 0.009024999709799886.\n",
      "\u001b[1m69/69\u001b[0m \u001b[32m━━━━━━━━━━━━━━━━━━━━\u001b[0m\u001b[37m\u001b[0m \u001b[1m1s\u001b[0m 8ms/step - accuracy: 0.1647 - loss: 2.2581 - val_accuracy: 0.1773 - val_loss: 2.2418 - learning_rate: 0.0095\n",
      "Epoch 4/30\n",
      "\u001b[1m69/69\u001b[0m \u001b[32m━━━━━━━━━━━━━━━━━━━━\u001b[0m\u001b[37m\u001b[0m \u001b[1m1s\u001b[0m 8ms/step - accuracy: 0.1765 - loss: 2.2389 - val_accuracy: 0.1898 - val_loss: 2.2232 - learning_rate: 0.0090\n",
      "Epoch 5/30\n",
      "\u001b[1m69/69\u001b[0m \u001b[32m━━━━━━━━━━━━━━━━━━━━\u001b[0m\u001b[37m\u001b[0m \u001b[1m0s\u001b[0m 6ms/step - accuracy: 0.1922 - loss: 2.2207\n",
      "Epoch 5: ReduceLROnPlateau reducing learning rate to 0.008573750033974648.\n",
      "\u001b[1m69/69\u001b[0m \u001b[32m━━━━━━━━━━━━━━━━━━━━\u001b[0m\u001b[37m\u001b[0m \u001b[1m1s\u001b[0m 9ms/step - accuracy: 0.1922 - loss: 2.2206 - val_accuracy: 0.2099 - val_loss: 2.2043 - learning_rate: 0.0090\n",
      "Epoch 6/30\n",
      "\u001b[1m63/69\u001b[0m \u001b[32m━━━━━━━━━━━━━━━━━━\u001b[0m\u001b[37m━━\u001b[0m \u001b[1m0s\u001b[0m 4ms/step - accuracy: 0.2170 - loss: 2.2019\n",
      "Epoch 6: ReduceLROnPlateau reducing learning rate to 0.008145062532275914.\n",
      "\u001b[1m69/69\u001b[0m \u001b[32m━━━━━━━━━━━━━━━━━━━━\u001b[0m\u001b[37m\u001b[0m \u001b[1m1s\u001b[0m 8ms/step - accuracy: 0.2176 - loss: 2.2015 - val_accuracy: 0.2374 - val_loss: 2.1859 - learning_rate: 0.0086\n",
      "Epoch 7/30\n",
      "\u001b[1m69/69\u001b[0m \u001b[32m━━━━━━━━━━━━━━━━━━━━\u001b[0m\u001b[37m\u001b[0m \u001b[1m1s\u001b[0m 8ms/step - accuracy: 0.2453 - loss: 2.1835 - val_accuracy: 0.2683 - val_loss: 2.1679 - learning_rate: 0.0081\n",
      "Epoch 8/30\n",
      "\u001b[1m57/69\u001b[0m \u001b[32m━━━━━━━━━━━━━━━━\u001b[0m\u001b[37m━━━━\u001b[0m \u001b[1m0s\u001b[0m 5ms/step - accuracy: 0.2748 - loss: 2.1678\n",
      "Epoch 8: ReduceLROnPlateau reducing learning rate to 0.0077378091402351854.\n",
      "\u001b[1m69/69\u001b[0m \u001b[32m━━━━━━━━━━━━━━━━━━━━\u001b[0m\u001b[37m\u001b[0m \u001b[1m1s\u001b[0m 8ms/step - accuracy: 0.2761 - loss: 2.1668 - val_accuracy: 0.2943 - val_loss: 2.1491 - learning_rate: 0.0081\n",
      "Epoch 9/30\n",
      "\u001b[1m60/69\u001b[0m \u001b[32m━━━━━━━━━━━━━━━━━\u001b[0m\u001b[37m━━━\u001b[0m \u001b[1m0s\u001b[0m 5ms/step - accuracy: 0.2970 - loss: 2.1492\n",
      "Epoch 9: ReduceLROnPlateau reducing learning rate to 0.007350918860174715.\n",
      "\u001b[1m69/69\u001b[0m \u001b[32m━━━━━━━━━━━━━━━━━━━━\u001b[0m\u001b[37m\u001b[0m \u001b[1m1s\u001b[0m 8ms/step - accuracy: 0.2985 - loss: 2.1483 - val_accuracy: 0.3144 - val_loss: 2.1303 - learning_rate: 0.0077\n",
      "Epoch 10/30\n",
      "\u001b[1m69/69\u001b[0m \u001b[32m━━━━━━━━━━━━━━━━━━━━\u001b[0m\u001b[37m\u001b[0m \u001b[1m1s\u001b[0m 8ms/step - accuracy: 0.3259 - loss: 2.1284 - val_accuracy: 0.3296 - val_loss: 2.1115 - learning_rate: 0.0074\n",
      "Epoch 11/30\n",
      "\u001b[1m62/69\u001b[0m \u001b[32m━━━━━━━━━━━━━━━━━\u001b[0m\u001b[37m━━━\u001b[0m \u001b[1m0s\u001b[0m 5ms/step - accuracy: 0.3373 - loss: 2.1115\n",
      "Epoch 11: ReduceLROnPlateau reducing learning rate to 0.006983372895047068.\n",
      "\u001b[1m69/69\u001b[0m \u001b[32m━━━━━━━━━━━━━━━━━━━━\u001b[0m\u001b[37m\u001b[0m \u001b[1m1s\u001b[0m 9ms/step - accuracy: 0.3377 - loss: 2.1108 - val_accuracy: 0.3433 - val_loss: 2.0917 - learning_rate: 0.0074\n",
      "Epoch 12/30\n",
      "\u001b[1m66/69\u001b[0m \u001b[32m━━━━━━━━━━━━━━━━━━━\u001b[0m\u001b[37m━\u001b[0m \u001b[1m0s\u001b[0m 5ms/step - accuracy: 0.3498 - loss: 2.0903\n",
      "Epoch 12: ReduceLROnPlateau reducing learning rate to 0.006634204206056892.\n",
      "\u001b[1m69/69\u001b[0m \u001b[32m━━━━━━━━━━━━━━━━━━━━\u001b[0m\u001b[37m\u001b[0m \u001b[1m1s\u001b[0m 8ms/step - accuracy: 0.3499 - loss: 2.0901 - val_accuracy: 0.3537 - val_loss: 2.0719 - learning_rate: 0.0070\n",
      "Epoch 13/30\n",
      "\u001b[1m69/69\u001b[0m \u001b[32m━━━━━━━━━━━━━━━━━━━━\u001b[0m\u001b[37m\u001b[0m \u001b[1m1s\u001b[0m 8ms/step - accuracy: 0.3578 - loss: 2.0711 - val_accuracy: 0.3587 - val_loss: 2.0521 - learning_rate: 0.0066\n",
      "Epoch 14/30\n",
      "\u001b[1m69/69\u001b[0m \u001b[32m━━━━━━━━━━━━━━━━━━━━\u001b[0m\u001b[37m\u001b[0m \u001b[1m0s\u001b[0m 5ms/step - accuracy: 0.3595 - loss: 2.0515\n",
      "Epoch 14: ReduceLROnPlateau reducing learning rate to 0.006302493973635137.\n",
      "\u001b[1m69/69\u001b[0m \u001b[32m━━━━━━━━━━━━━━━━━━━━\u001b[0m\u001b[37m\u001b[0m \u001b[1m1s\u001b[0m 8ms/step - accuracy: 0.3596 - loss: 2.0515 - val_accuracy: 0.3627 - val_loss: 2.0313 - learning_rate: 0.0066\n",
      "Epoch 15/30\n",
      "\u001b[1m64/69\u001b[0m \u001b[32m━━━━━━━━━━━━━━━━━━\u001b[0m\u001b[37m━━\u001b[0m \u001b[1m0s\u001b[0m 5ms/step - accuracy: 0.3683 - loss: 2.0311\n",
      "Epoch 15: ReduceLROnPlateau reducing learning rate to 0.005987369385547936.\n",
      "\u001b[1m69/69\u001b[0m \u001b[32m━━━━━━━━━━━━━━━━━━━━\u001b[0m\u001b[37m\u001b[0m \u001b[1m1s\u001b[0m 9ms/step - accuracy: 0.3684 - loss: 2.0307 - val_accuracy: 0.3673 - val_loss: 2.0107 - learning_rate: 0.0063\n",
      "Epoch 16/30\n",
      "\u001b[1m69/69\u001b[0m \u001b[32m━━━━━━━━━━━━━━━━━━━━\u001b[0m\u001b[37m\u001b[0m \u001b[1m1s\u001b[0m 7ms/step - accuracy: 0.3727 - loss: 2.0097 - val_accuracy: 0.3713 - val_loss: 1.9904 - learning_rate: 0.0060\n",
      "Epoch 17/30\n",
      "\u001b[1m64/69\u001b[0m \u001b[32m━━━━━━━━━━━━━━━━━━\u001b[0m\u001b[37m━━\u001b[0m \u001b[1m0s\u001b[0m 4ms/step - accuracy: 0.3743 - loss: 1.9907\n",
      "Epoch 17: ReduceLROnPlateau reducing learning rate to 0.005688000982627272.\n",
      "\u001b[1m69/69\u001b[0m \u001b[32m━━━━━━━━━━━━━━━━━━━━\u001b[0m\u001b[37m\u001b[0m \u001b[1m1s\u001b[0m 8ms/step - accuracy: 0.3744 - loss: 1.9902 - val_accuracy: 0.3736 - val_loss: 1.9694 - learning_rate: 0.0060\n",
      "Epoch 18/30\n",
      "\u001b[1m68/69\u001b[0m \u001b[32m━━━━━━━━━━━━━━━━━━━\u001b[0m\u001b[37m━\u001b[0m \u001b[1m0s\u001b[0m 5ms/step - accuracy: 0.3764 - loss: 1.9715\n",
      "Epoch 18: ReduceLROnPlateau reducing learning rate to 0.005403600889258086.\n",
      "\u001b[1m69/69\u001b[0m \u001b[32m━━━━━━━━━━━━━━━━━━━━\u001b[0m\u001b[37m\u001b[0m \u001b[1m1s\u001b[0m 8ms/step - accuracy: 0.3765 - loss: 1.9713 - val_accuracy: 0.3777 - val_loss: 1.9487 - learning_rate: 0.0057\n",
      "Epoch 19/30\n",
      "\u001b[1m69/69\u001b[0m \u001b[32m━━━━━━━━━━━━━━━━━━━━\u001b[0m\u001b[37m\u001b[0m \u001b[1m1s\u001b[0m 8ms/step - accuracy: 0.3798 - loss: 1.9502 - val_accuracy: 0.3787 - val_loss: 1.9285 - learning_rate: 0.0054\n",
      "Epoch 20/30\n",
      "\u001b[1m68/69\u001b[0m \u001b[32m━━━━━━━━━━━━━━━━━━━\u001b[0m\u001b[37m━\u001b[0m \u001b[1m0s\u001b[0m 5ms/step - accuracy: 0.3812 - loss: 1.9297\n",
      "Epoch 20: ReduceLROnPlateau reducing learning rate to 0.005133421043865383.\n",
      "\u001b[1m69/69\u001b[0m \u001b[32m━━━━━━━━━━━━━━━━━━━━\u001b[0m\u001b[37m\u001b[0m \u001b[1m1s\u001b[0m 9ms/step - accuracy: 0.3813 - loss: 1.9295 - val_accuracy: 0.3828 - val_loss: 1.9078 - learning_rate: 0.0054\n",
      "Epoch 21/30\n",
      "\u001b[1m64/69\u001b[0m \u001b[32m━━━━━━━━━━━━━━━━━━\u001b[0m\u001b[37m━━\u001b[0m \u001b[1m0s\u001b[0m 5ms/step - accuracy: 0.3849 - loss: 1.9110\n",
      "Epoch 21: ReduceLROnPlateau reducing learning rate to 0.004876750102266669.\n",
      "\u001b[1m69/69\u001b[0m \u001b[32m━━━━━━━━━━━━━━━━━━━━\u001b[0m\u001b[37m\u001b[0m \u001b[1m1s\u001b[0m 8ms/step - accuracy: 0.3852 - loss: 1.9105 - val_accuracy: 0.3861 - val_loss: 1.8877 - learning_rate: 0.0051\n",
      "Epoch 22/30\n",
      "\u001b[1m69/69\u001b[0m \u001b[32m━━━━━━━━━━━━━━━━━━━━\u001b[0m\u001b[37m\u001b[0m \u001b[1m1s\u001b[0m 8ms/step - accuracy: 0.3846 - loss: 1.8904 - val_accuracy: 0.3890 - val_loss: 1.8683 - learning_rate: 0.0049\n",
      "Epoch 23/30\n",
      "\u001b[1m63/69\u001b[0m \u001b[32m━━━━━━━━━━━━━━━━━━\u001b[0m\u001b[37m━━\u001b[0m \u001b[1m0s\u001b[0m 5ms/step - accuracy: 0.3957 - loss: 1.8682\n",
      "Epoch 23: ReduceLROnPlateau reducing learning rate to 0.004632912552915513.\n",
      "\u001b[1m69/69\u001b[0m \u001b[32m━━━━━━━━━━━━━━━━━━━━\u001b[0m\u001b[37m\u001b[0m \u001b[1m1s\u001b[0m 8ms/step - accuracy: 0.3954 - loss: 1.8679 - val_accuracy: 0.3908 - val_loss: 1.8486 - learning_rate: 0.0049\n",
      "Epoch 24/30\n",
      "\u001b[1m58/69\u001b[0m \u001b[32m━━━━━━━━━━━━━━━━\u001b[0m\u001b[37m━━━━\u001b[0m \u001b[1m0s\u001b[0m 5ms/step - accuracy: 0.3956 - loss: 1.8509\n",
      "Epoch 24: ReduceLROnPlateau reducing learning rate to 0.0044012669473886485.\n",
      "\u001b[1m69/69\u001b[0m \u001b[32m━━━━━━━━━━━━━━━━━━━━\u001b[0m\u001b[37m\u001b[0m \u001b[1m1s\u001b[0m 8ms/step - accuracy: 0.3957 - loss: 1.8503 - val_accuracy: 0.3932 - val_loss: 1.8297 - learning_rate: 0.0046\n",
      "Epoch 25/30\n",
      "\u001b[1m69/69\u001b[0m \u001b[32m━━━━━━━━━━━━━━━━━━━━\u001b[0m\u001b[37m\u001b[0m \u001b[1m1s\u001b[0m 8ms/step - accuracy: 0.4012 - loss: 1.8332 - val_accuracy: 0.3948 - val_loss: 1.8115 - learning_rate: 0.0044\n",
      "Epoch 26/30\n",
      "\u001b[1m66/69\u001b[0m \u001b[32m━━━━━━━━━━━━━━━━━━━\u001b[0m\u001b[37m━\u001b[0m \u001b[1m0s\u001b[0m 4ms/step - accuracy: 0.4036 - loss: 1.8136\n",
      "Epoch 26: ReduceLROnPlateau reducing learning rate to 0.004181203688494861.\n",
      "\u001b[1m69/69\u001b[0m \u001b[32m━━━━━━━━━━━━━━━━━━━━\u001b[0m\u001b[37m\u001b[0m \u001b[1m1s\u001b[0m 7ms/step - accuracy: 0.4035 - loss: 1.8134 - val_accuracy: 0.3977 - val_loss: 1.7932 - learning_rate: 0.0044\n",
      "Epoch 27/30\n",
      "\u001b[1m68/69\u001b[0m \u001b[32m━━━━━━━━━━━━━━━━━━━\u001b[0m\u001b[37m━\u001b[0m \u001b[1m0s\u001b[0m 5ms/step - accuracy: 0.4039 - loss: 1.7978\n",
      "Epoch 27: ReduceLROnPlateau reducing learning rate to 0.003972143703140319.\n",
      "\u001b[1m69/69\u001b[0m \u001b[32m━━━━━━━━━━━━━━━━━━━━\u001b[0m\u001b[37m\u001b[0m \u001b[1m1s\u001b[0m 8ms/step - accuracy: 0.4039 - loss: 1.7976 - val_accuracy: 0.4008 - val_loss: 1.7757 - learning_rate: 0.0042\n",
      "Epoch 28/30\n",
      "\u001b[1m69/69\u001b[0m \u001b[32m━━━━━━━━━━━━━━━━━━━━\u001b[0m\u001b[37m\u001b[0m \u001b[1m1s\u001b[0m 8ms/step - accuracy: 0.4089 - loss: 1.7796 - val_accuracy: 0.4047 - val_loss: 1.7591 - learning_rate: 0.0040\n",
      "Epoch 29/30\n",
      "\u001b[1m58/69\u001b[0m \u001b[32m━━━━━━━━━━━━━━━━\u001b[0m\u001b[37m━━━━\u001b[0m \u001b[1m0s\u001b[0m 5ms/step - accuracy: 0.4105 - loss: 1.7651\n",
      "Epoch 29: ReduceLROnPlateau reducing learning rate to 0.0037735366728156804.\n",
      "\u001b[1m69/69\u001b[0m \u001b[32m━━━━━━━━━━━━━━━━━━━━\u001b[0m\u001b[37m\u001b[0m \u001b[1m1s\u001b[0m 8ms/step - accuracy: 0.4107 - loss: 1.7642 - val_accuracy: 0.4078 - val_loss: 1.7424 - learning_rate: 0.0040\n",
      "Epoch 30/30\n",
      "\u001b[1m59/69\u001b[0m \u001b[32m━━━━━━━━━━━━━━━━━\u001b[0m\u001b[37m━━━\u001b[0m \u001b[1m0s\u001b[0m 5ms/step - accuracy: 0.4136 - loss: 1.7485\n",
      "Epoch 30: ReduceLROnPlateau reducing learning rate to 0.0035848599276505407.\n",
      "\u001b[1m69/69\u001b[0m \u001b[32m━━━━━━━━━━━━━━━━━━━━\u001b[0m\u001b[37m\u001b[0m \u001b[1m1s\u001b[0m 8ms/step - accuracy: 0.4138 - loss: 1.7479 - val_accuracy: 0.4135 - val_loss: 1.7265 - learning_rate: 0.0038\n"
     ]
    }
   ],
   "source": [
    "import time\n",
    "from tensorflow.keras.callbacks import ReduceLROnPlateau\n",
    "from keras.callbacks import EarlyStopping \n",
    "keras_callbacks = ReduceLROnPlateau(\n",
    "    monitor= 'val_loss',     # Metrica da monitorare (qui è la loss di validazione) \n",
    "    factor=0.95,             # Riduci il learning rate: Moltiplicatore per ridurre il learning rate (nuovo_lr = lr * factor)\n",
    "    patience=1,             # Aspetta 1 epoche senza miglioramenti prima di ridurre LR\n",
    "    verbose=1,              # Mostra un messaggio quando il learning rate viene ridotto\n",
    "    min_lr=0,             # Learning rate minimo\n",
    "    min_delta=0.05      # min_delta=quantità minima di miglioramento richiesta per considerare il valore della perdita come un miglioramento\n",
    ")\n",
    "\n",
    "\n",
    "#per modificare epochs e batch_size modificare rispettivamente 'e' e 'b' (verranno modificati anche nella cnn)\n",
    "e=30\n",
    "b=700\n",
    "\n",
    "\n",
    "\n",
    "#altro callbacks con Earlystopping\n",
    "keras_callbacks1 = [EarlyStopping(monitor='val_loss', patience=6, verbose=1, min_delta=0.001)]\n",
    "#min_delta=quantità minima di miglioramento richiesta per considerare il valore della perdita come un miglioramento\n",
    "\n",
    "\n",
    "start_time = time.time() #registra tempo di inizio\n",
    "history = model.fit(x_train, y_train, epochs=e, batch_size=b, verbose=1,\n",
    "                    validation_split=0.2, callbacks=[keras_callbacks,keras_callbacks1])\n",
    "\n",
    "end_time = time.time() ##registra tempo di fine\n",
    "\n",
    "\n",
    "#model.fit(x_train, y_train, batch_size=60000, epochs=100,validation_split=0.2)\n"
   ]
  },
  {
   "cell_type": "code",
   "execution_count": 10,
   "id": "8cea71cf-e33b-4ef5-b3db-ddd447416d90",
   "metadata": {},
   "outputs": [
    {
     "name": "stdout",
     "output_type": "stream",
     "text": [
      "\u001b[1m313/313\u001b[0m \u001b[32m━━━━━━━━━━━━━━━━━━━━\u001b[0m\u001b[37m\u001b[0m \u001b[1m1s\u001b[0m 3ms/step - accuracy: 0.4166 - loss: 1.7484\n",
      "Test accuracy: 0.4161\n",
      "Test loss: 1.7297\n"
     ]
    }
   ],
   "source": [
    "test_loss, test_acc = model.evaluate(x_test, y_test)\n",
    "print('Test accuracy:', round(test_acc,4))\n",
    "print('Test loss:', round(test_loss,4))"
   ]
  },
  {
   "cell_type": "code",
   "execution_count": 11,
   "id": "74cddf4e-5f2e-47ce-b59e-0add0c6cf499",
   "metadata": {},
   "outputs": [],
   "source": [
    "import matplotlib.pyplot as plt\n",
    "def plot_confusion_matrix(cm, classes,\n",
    "                          normalize=False,\n",
    "                          title='Confusion matrix',\n",
    "                          cmap=plt.cm.Blues):\n",
    "    \"\"\"\n",
    "    This function prints and plots the confusion matrix.\n",
    "    Normalization can be applied by setting `normalize=True`.\n",
    "    \"\"\"\n",
    "    plt.imshow(cm, interpolation='nearest', cmap=cmap)\n",
    "    \n",
    "    plt.title(title)\n",
    "    plt.colorbar()\n",
    "    tick_marks = np.arange(len(classes))\n",
    "    plt.xticks(tick_marks, classes, rotation=30)\n",
    "    plt.yticks(tick_marks, classes)\n",
    "\n",
    "    if normalize:\n",
    "        cm = cm.astype('float') / cm.sum(axis=1)[:, np.newaxis]\n",
    "\n",
    "    thresh = cm.max() / 2.\n",
    "    for i, j in itertools.product(range(cm.shape[0]), range(cm.shape[1])):\n",
    "        plt.text(j, i, cm[i, j],\n",
    "                 horizontalalignment=\"center\",\n",
    "                 color=\"white\" if cm[i, j] > thresh else \"black\")\n",
    "\n",
    "    plt.tight_layout()\n",
    "    plt.ylabel('Actual class')\n",
    "    plt.xlabel('Predicted class')\n",
    "   \n",
    "    plt.show()"
   ]
  },
  {
   "cell_type": "code",
   "execution_count": 12,
   "id": "5dce68fc-a521-487a-92f8-1a8058478f31",
   "metadata": {},
   "outputs": [
    {
     "name": "stdout",
     "output_type": "stream",
     "text": [
      "\u001b[1m313/313\u001b[0m \u001b[32m━━━━━━━━━━━━━━━━━━━━\u001b[0m\u001b[37m\u001b[0m \u001b[1m1s\u001b[0m 2ms/step\n"
     ]
    },
    {
     "data": {
      "image/png": "[encoded data removed]",
      "text/plain": [
       "<Figure size 640x480 with 2 Axes>"
      ]
     },
     "metadata": {},
     "output_type": "display_data"
    }
   ],
   "source": [
    "from collections import Counter\n",
    "from sklearn.metrics import confusion_matrix\n",
    "import itertools\n",
    "\n",
    "# Predict the values from the validation dataset\n",
    "Y_pred = model.predict(x_test)\n",
    "# Convert predictions classes to one hot vectors \n",
    "Y_pred_classes = np.argmax(Y_pred, axis = 1) \n",
    "# Convert validation observations to one hot vectors\n",
    "Y_true = np.argmax(y_test, axis = 1) \n",
    "# compute the confusion matrix\n",
    "confusion_mtx = confusion_matrix(Y_true, Y_pred_classes) \n",
    "# plot the confusion matrix\n",
    "plot_confusion_matrix(confusion_mtx, classes = range(10))\n",
    "\n"
   ]
  },
  {
   "cell_type": "code",
   "execution_count": 13,
   "id": "26b97bef-4cf6-4f9a-96fa-f19e14368b5e",
   "metadata": {},
   "outputs": [
    {
     "data": {
      "image/png": "[encoded data removed]",
      "text/plain": [
       "<Figure size 640x480 with 1 Axes>"
      ]
     },
     "metadata": {},
     "output_type": "display_data"
    }
   ],
   "source": [
    "#plot loss-rate\n",
    "val_losses=history.history[\"val_loss\"]\n",
    "train_losses=history.history[\"loss\"]\n",
    "\n",
    "epochs = range(1, len(val_losses) + 1)\n",
    "\n",
    "plt.figure()\n",
    "plt.title(\"Training loss\")\n",
    "plt.plot(epochs,val_losses,c=\"red\",label=\"Validation\")\n",
    "plt.plot(epochs,train_losses,c=\"orange\",label=\"Training\")\n",
    "plt.xlabel(\"Epochs\")\n",
    "plt.ylabel(\"Cross entropy\")\n",
    "plt.legend()\n",
    "plt.savefig(\"loss_ANN.png\")"
   ]
  },
  {
   "cell_type": "markdown",
   "id": "03aaadee-ff93-43aa-b6c5-d94505c8baae",
   "metadata": {},
   "source": [
    "# rete modello (CNN)\n",
    "implemento una rete modello perfettamente funzionante (tale cnn con 8 layer è più stabile e meglio ottimizzata, ottima accuracy e loss basso).\n",
    "tale modello può essere utile per un eventuale confronto dei dati in output della rete ANN con un set di dati che simuli 'le risposte di un paziente perfettamente sano'\n",
    "NOTA:per quanto ottima la CNN non è perfetta potrà sbagiare qualche test, quindi questo introduce un certo margine d'errore per la rete ANN. "
   ]
  },
  {
   "cell_type": "code",
   "execution_count": 14,
   "id": "2e5846b3-be99-45ea-9d2f-df2ed851890d",
   "metadata": {},
   "outputs": [
    {
     "name": "stderr",
     "output_type": "stream",
     "text": [
      "C:\\Users\\tony3\\AppData\\Local\\Programs\\Python\\Python311\\Lib\\site-packages\\keras\\src\\layers\\convolutional\\base_conv.py:107: UserWarning: Do not pass an `input_shape`/`input_dim` argument to a layer. When using Sequential models, prefer using an `Input(shape)` object as the first layer in the model instead.\n",
      "  super().__init__(activity_regularizer=activity_regularizer, **kwargs)\n"
     ]
    },
    {
     "name": "stdout",
     "output_type": "stream",
     "text": [
      "Epoch 1/30\n",
      "\u001b[1m69/69\u001b[0m \u001b[32m━━━━━━━━━━━━━━━━━━━━\u001b[0m\u001b[37m\u001b[0m \u001b[1m17s\u001b[0m 190ms/step - accuracy: 0.5159 - loss: 7.2952 - val_accuracy: 0.9582 - val_loss: 0.1329\n",
      "Epoch 2/30\n",
      "\u001b[1m69/69\u001b[0m \u001b[32m━━━━━━━━━━━━━━━━━━━━\u001b[0m\u001b[37m\u001b[0m \u001b[1m13s\u001b[0m 182ms/step - accuracy: 0.9646 - loss: 0.1125 - val_accuracy: 0.9735 - val_loss: 0.0812\n",
      "Epoch 3/30\n",
      "\u001b[1m69/69\u001b[0m \u001b[32m━━━━━━━━━━━━━━━━━━━━\u001b[0m\u001b[37m\u001b[0m \u001b[1m13s\u001b[0m 181ms/step - accuracy: 0.9818 - loss: 0.0583 - val_accuracy: 0.9812 - val_loss: 0.0666\n",
      "Epoch 4/30\n",
      "\u001b[1m69/69\u001b[0m \u001b[32m━━━━━━━━━━━━━━━━━━━━\u001b[0m\u001b[37m\u001b[0m \u001b[1m13s\u001b[0m 182ms/step - accuracy: 0.9881 - loss: 0.0381 - val_accuracy: 0.9810 - val_loss: 0.0614\n",
      "Epoch 5/30\n",
      "\u001b[1m69/69\u001b[0m \u001b[32m━━━━━━━━━━━━━━━━━━━━\u001b[0m\u001b[37m\u001b[0m \u001b[1m13s\u001b[0m 182ms/step - accuracy: 0.9911 - loss: 0.0272 - val_accuracy: 0.9837 - val_loss: 0.0537\n",
      "Epoch 6/30\n",
      "\u001b[1m69/69\u001b[0m \u001b[32m━━━━━━━━━━━━━━━━━━━━\u001b[0m\u001b[37m\u001b[0m \u001b[1m13s\u001b[0m 182ms/step - accuracy: 0.9944 - loss: 0.0180 - val_accuracy: 0.9837 - val_loss: 0.0567\n",
      "Epoch 7/30\n",
      "\u001b[1m69/69\u001b[0m \u001b[32m━━━━━━━━━━━━━━━━━━━━\u001b[0m\u001b[37m\u001b[0m \u001b[1m13s\u001b[0m 182ms/step - accuracy: 0.9959 - loss: 0.0138 - val_accuracy: 0.9833 - val_loss: 0.0597\n",
      "Epoch 8/30\n",
      "\u001b[1m69/69\u001b[0m \u001b[32m━━━━━━━━━━━━━━━━━━━━\u001b[0m\u001b[37m\u001b[0m \u001b[1m13s\u001b[0m 181ms/step - accuracy: 0.9977 - loss: 0.0094 - val_accuracy: 0.9848 - val_loss: 0.0551\n",
      "Epoch 9/30\n",
      "\u001b[1m69/69\u001b[0m \u001b[32m━━━━━━━━━━━━━━━━━━━━\u001b[0m\u001b[37m\u001b[0m \u001b[1m13s\u001b[0m 183ms/step - accuracy: 0.9989 - loss: 0.0060 - val_accuracy: 0.9862 - val_loss: 0.0525\n",
      "Epoch 10/30\n",
      "\u001b[1m69/69\u001b[0m \u001b[32m━━━━━━━━━━━━━━━━━━━━\u001b[0m\u001b[37m\u001b[0m \u001b[1m13s\u001b[0m 182ms/step - accuracy: 0.9994 - loss: 0.0040 - val_accuracy: 0.9868 - val_loss: 0.0519\n",
      "Epoch 11/30\n",
      "\u001b[1m69/69\u001b[0m \u001b[32m━━━━━━━━━━━━━━━━━━━━\u001b[0m\u001b[37m\u001b[0m \u001b[1m13s\u001b[0m 182ms/step - accuracy: 0.9997 - loss: 0.0022 - val_accuracy: 0.9872 - val_loss: 0.0523\n",
      "Epoch 12/30\n",
      "\u001b[1m69/69\u001b[0m \u001b[32m━━━━━━━━━━━━━━━━━━━━\u001b[0m\u001b[37m\u001b[0m \u001b[1m13s\u001b[0m 183ms/step - accuracy: 0.9999 - loss: 0.0011 - val_accuracy: 0.9872 - val_loss: 0.0556\n",
      "Epoch 13/30\n",
      "\u001b[1m69/69\u001b[0m \u001b[32m━━━━━━━━━━━━━━━━━━━━\u001b[0m\u001b[37m\u001b[0m \u001b[1m13s\u001b[0m 184ms/step - accuracy: 1.0000 - loss: 6.8750e-04 - val_accuracy: 0.9871 - val_loss: 0.0551\n",
      "Epoch 14/30\n",
      "\u001b[1m69/69\u001b[0m \u001b[32m━━━━━━━━━━━━━━━━━━━━\u001b[0m\u001b[37m\u001b[0m \u001b[1m20s\u001b[0m 183ms/step - accuracy: 1.0000 - loss: 5.0384e-04 - val_accuracy: 0.9874 - val_loss: 0.0568\n",
      "Epoch 14: early stopping\n",
      "\u001b[1m313/313\u001b[0m \u001b[32m━━━━━━━━━━━━━━━━━━━━\u001b[0m\u001b[37m\u001b[0m \u001b[1m2s\u001b[0m 7ms/step\n",
      "\u001b[1m313/313\u001b[0m \u001b[32m━━━━━━━━━━━━━━━━━━━━\u001b[0m\u001b[37m\u001b[0m \u001b[1m3s\u001b[0m 8ms/step - accuracy: 0.9833 - loss: 0.0717\n",
      "Test accuracy cnn: 0.9871\n",
      "Test loss cnn: 0.0558\n"
     ]
    }
   ],
   "source": [
    "from keras.layers import Dense,Conv2D,Flatten,Dropout,MaxPooling2D\n",
    "\n",
    "x_train_cnn=x_train1.reshape(x_train1.shape[0],x_train1.shape[1],x_train1.shape[2],1)\n",
    "x_test_cnn=x_test1.reshape(x_test1.shape[0],x_test1.shape[1],x_test1.shape[2],1)\n",
    "\n",
    "y_train_cat=to_categorical(y_train1)\n",
    "\n",
    "    # definiamo il modello in maniera funzionale\n",
    "cnn= Sequential()\n",
    "cnn.add(Conv2D(filters=32, kernel_size=(5,5), padding='same', activation='relu', input_shape=(28, 28, 1)))\n",
    "cnn.add(MaxPooling2D(strides=2))\n",
    "cnn.add(Conv2D(filters=48, kernel_size=(5,5), padding='valid', activation='relu'))\n",
    "cnn.add(MaxPooling2D(strides=2))\n",
    "cnn.add(Flatten())\n",
    "cnn.add(Dense(256, activation='relu'))\n",
    "cnn.add(Dense(84, activation='relu'))\n",
    "cnn.add(Dense(10, activation='softmax'))\n",
    "\n",
    "    # definizione dell'ottimizzatore\n",
    "    #opt=Adam(learning_rate=1e-3) #algoritmo di ottimizzazione, learning rate indica il tasso di apprendimento\n",
    "\n",
    "    # compiliamo il modello prima dell'addestramento\n",
    "cnn.compile(optimizer=\"adam\",\n",
    "                       loss='categorical_crossentropy', #loss function\n",
    "                       metrics=['accuracy'])\n",
    "keras_callbacks = [\n",
    "EarlyStopping(monitor='val_loss', patience=5, verbose=1, min_delta=0.001)#quantità minima di miglioramento richiesta per considerare il valore della perdita come un miglioramento\n",
    "]\n",
    "start_time = time.time() #registra tempo di inizio\n",
    "history = cnn.fit(x_train_cnn, y_train_cat, epochs=e, batch_size=b, verbose=1,\n",
    "                    validation_split=0.2, callbacks=keras_callbacks)\n",
    "    \n",
    "   \n",
    "\n",
    "end_time = time.time() ##registra tempo di fine\n",
    "    \n",
    "cnn_predictions = cnn.predict(x_test1)\n",
    "y_test_cnn = to_categorical(y_test1, num_classes=10)\n",
    "\n",
    "test_loss_R, test_acc_R = cnn.evaluate(x_test_cnn, y_test_cnn)\n",
    "print('Test accuracy cnn:', round(test_acc_R,4))\n",
    "print('Test loss cnn:', round(test_loss_R,4))"
   ]
  },
  {
   "cell_type": "markdown",
   "id": "40e0af03-6a59-43d0-8772-d967ccd7ef87",
   "metadata": {},
   "source": [
    "# simulazione \n",
    "comportamento di un paziente (non bravo) a cui vengono proposte immagini da classificare (MNIST) e confronto con un paziente perfettamente sano"
   ]
  },
  {
   "cell_type": "code",
   "execution_count": 15,
   "id": "580c5375-fb21-44da-8471-46036bd6a83a",
   "metadata": {},
   "outputs": [
    {
     "name": "stdout",
     "output_type": "stream",
     "text": [
      "\u001b[1m313/313\u001b[0m \u001b[32m━━━━━━━━━━━━━━━━━━━━\u001b[0m\u001b[37m\u001b[0m \u001b[1m1s\u001b[0m 2ms/step\n"
     ]
    }
   ],
   "source": [
    "predictions = model.predict(x_test)"
   ]
  },
  {
   "cell_type": "code",
   "execution_count": 16,
   "id": "f29d40d8-5f82-43c2-8f70-013c590a6c63",
   "metadata": {},
   "outputs": [
    {
     "name": "stdin",
     "output_type": "stream",
     "text": [
      "quale immagine vuoi che legga? fornire un numero da 0 a 10.000: 4\n"
     ]
    },
    {
     "name": "stdout",
     "output_type": "stream",
     "text": [
      "io ho interpretato l'immagine numero 4 come: 4\n",
      "\n",
      "ecco la predizione che mi ha permesso di fare questa scelta:\n",
      "\n",
      " [0.13337982 0.05564607 0.07522098 0.0470721  0.19254811 0.09336125\n",
      " 0.07023018 0.11956776 0.03375496 0.17921872]\n",
      "\n",
      "la risposta corretta è: 4\n",
      "\n",
      " il paziente modello avrebbe risposto: 4\n",
      "\n",
      "\n",
      "vuoi che mostri l'immagine selezionata?\n",
      "\n"
     ]
    },
    {
     "name": "stdin",
     "output_type": "stream",
     "text": [
      " si\n"
     ]
    },
    {
     "data": {
      "image/png": "[encoded data removed]",
      "text/plain": [
       "<Figure size 640x480 with 1 Axes>"
      ]
     },
     "metadata": {},
     "output_type": "display_data"
    },
    {
     "name": "stdout",
     "output_type": "stream",
     "text": [
      "I due pazienti hanno fornito un numero di risposte uguali pari a: 41620,\n",
      " il 'paziente in esame' ha fornito il 41.62% delle risposte che il paziente modello ha fornito.\n"
     ]
    },
    {
     "name": "stdin",
     "output_type": "stream",
     "text": [
      "\n",
      "vuoi che legga un'altra immagine?\n",
      " no\n"
     ]
    },
    {
     "name": "stdout",
     "output_type": "stream",
     "text": [
      "se non è 'si' per me è no ;), alla prossima!\n"
     ]
    }
   ],
   "source": [
    "\n",
    "b=\"si\"\n",
    "while b==\"si\":\n",
    "    a=input(\"quale immagine vuoi che legga? fornire un numero da 0 a 10.000:\")\n",
    "    \n",
    "    print(\"io ho interpretato l'immagine numero {} come: {}\".format(a,np.argmax(predictions[int(a)])))\n",
    "    print(\"\\necco la predizione che mi ha permesso di fare questa scelta:\\n\\n\",predictions[int(a)])\n",
    "    #print(np.sum(predictions[int(a)]))\n",
    "    print(\"\\nla risposta corretta è:\",y_test1[int(a)])\n",
    "    print(\"\\n il paziente modello avrebbe risposto: {}\\n\".format(np.argmax(cnn_predictions[int(a)])))\n",
    "    print(\"\\nvuoi che mostri l'immagine selezionata?\\n\") \n",
    "    if input()=='si':\n",
    "        plt.imshow(x_test1[int(a)], cmap=plt.cm.binary)\n",
    "        plt.show()\n",
    "    \n",
    "    for i in range(9999):\n",
    "        predictions[int(i)]=np.argmax(predictions[int(i)])\n",
    "        cnn_predictions[int(i)]=np.argmax(cnn_predictions[int(i)])\n",
    "        \n",
    "    #print( predictions)\n",
    "    uguali =np.sum(np.array(cnn_predictions) == np.array(predictions))\n",
    "    percentuale = (uguali / cnn_predictions.size) * 100\n",
    "\n",
    "    print(\"I due pazienti hanno fornito un numero di risposte uguali pari a: {},\\n il 'paziente in esame' ha fornito il {:.2f}% delle risposte che il paziente modello ha fornito.\".format(uguali, percentuale))\n",
    "\n",
    "    b=input(\"\\nvuoi che legga un'altra immagine?\\n\")\n",
    "    \n",
    "print(\"se non è 'si' per me è no ;), alla prossima!\")\n"
   ]
  },
  {
   "cell_type": "code",
   "execution_count": null,
   "id": "4a6d9206-414a-43d9-b861-62d351d7d9a9",
   "metadata": {},
   "outputs": [],
   "source": []
  },
  {
   "cell_type": "code",
   "execution_count": null,
   "id": "dc7efbeb-66da-494b-9c11-c1ee327dbfaa",
   "metadata": {},
   "outputs": [],
   "source": []
  },
  {
   "cell_type": "code",
   "execution_count": null,
   "id": "5c6ae5e2-a93a-46f0-9bbc-99dd207ece4f",
   "metadata": {},
   "outputs": [],
   "source": []
  },
  {
   "cell_type": "code",
   "execution_count": null,
   "id": "5770631e-85c1-4840-aa0e-a9cdea993443",
   "metadata": {},
   "outputs": [],
   "source": []
  },
  {
   "cell_type": "code",
   "execution_count": null,
   "id": "02c397e1-256c-4282-9985-f75b223b398a",
   "metadata": {},
   "outputs": [],
   "source": []
  },
  {
   "cell_type": "code",
   "execution_count": null,
   "id": "9b218d10-37ae-4cab-b76b-3dd6cdc4d74d",
   "metadata": {},
   "outputs": [],
   "source": []
  },
  {
   "cell_type": "code",
   "execution_count": null,
   "id": "4e174d0f-b39b-4634-96f3-87771e7c4883",
   "metadata": {},
   "outputs": [],
   "source": []
  }
 ],
 "metadata": {
  "kernelspec": {
   "display_name": "Python 3 (ipykernel)",
   "language": "python",
   "name": "python3"
  },
  "language_info": {
   "codemirror_mode": {
    "name": "ipython",
    "version": 3
   },
   "file_extension": ".py",
   "mimetype": "text/x-python",
   "name": "python",
   "nbconvert_exporter": "python",
   "pygments_lexer": "ipython3",
   "version": "3.11.0"
  }
 },
 "nbformat": 4,
 "nbformat_minor": 5
}
